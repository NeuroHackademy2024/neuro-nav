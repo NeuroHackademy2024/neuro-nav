{
 "cells": [
  {
   "cell_type": "code",
   "execution_count": 1,
   "metadata": {
    "tags": []
   },
   "outputs": [],
   "source": [
    "import pandas as pd\n",
    "import numpy as np\n",
    "import ipywidgets as widgets\n",
    "from IPython.display import HTML\n",
    "from pathlib import Path\n",
    "\n",
    "from classes import TractPlot\n",
    "from demographics import DemPlot"
   ]
  },
  {
   "cell_type": "code",
   "execution_count": 2,
   "metadata": {
    "tags": []
   },
   "outputs": [],
   "source": [
    "from bqplot import Figure, Scatter, Axis, LinearScale"
   ]
  },
  {
   "cell_type": "code",
   "execution_count": 3,
   "metadata": {
    "tags": []
   },
   "outputs": [
    {
     "data": {
      "text/html": [
       "<style>\n",
       ".app-subtitle {\n",
       "    font-size: 1.5em;\n",
       "}\n",
       "\n",
       ".app-subtitle a {\n",
       "    color: #106ba3;\n",
       "}\n",
       "\n",
       ".app-subtitle a:hover {\n",
       "    text-decoration: underline;\n",
       "}\n",
       "\n",
       ".app-sidebar p {\n",
       "    margin-bottom: 1em;\n",
       "    line-height: 1.7;\n",
       "}\n",
       "\n",
       ".app-sidebar a {\n",
       "    color: #106ba3;\n",
       "}\n",
       "\n",
       ".app-sidebar a:hover {\n",
       "    text-decoration: underline;\n",
       "}\n",
       "</style>\n"
      ],
      "text/plain": [
       "<IPython.core.display.HTML object>"
      ]
     },
     "execution_count": 3,
     "metadata": {},
     "output_type": "execute_result"
    }
   ],
   "source": [
    "HTML(\"\"\"\\\n",
    "<style>\n",
    ".app-subtitle {\n",
    "    font-size: 1.5em;\n",
    "}\n",
    "\n",
    ".app-subtitle a {\n",
    "    color: #106ba3;\n",
    "}\n",
    "\n",
    ".app-subtitle a:hover {\n",
    "    text-decoration: underline;\n",
    "}\n",
    "\n",
    ".app-sidebar p {\n",
    "    margin-bottom: 1em;\n",
    "    line-height: 1.7;\n",
    "}\n",
    "\n",
    ".app-sidebar a {\n",
    "    color: #106ba3;\n",
    "}\n",
    "\n",
    ".app-sidebar a:hover {\n",
    "    text-decoration: underline;\n",
    "}\n",
    "</style>\n",
    "\"\"\")"
   ]
  },
  {
   "cell_type": "code",
   "execution_count": 4,
   "metadata": {
    "tags": []
   },
   "outputs": [
    {
     "name": "stdout",
     "output_type": "stream",
     "text": [
      "data/sub-996782/ses-01/sub-996782_dwi_space-RASMM_model-CSD_desc-prob-afq_profiles.csv\n",
      "   Unnamed: 0 tractID  nodeID    dki_fa    dki_md    dki_mk   dki_awf\n",
      "0           0   ATR_R       0  0.244326  0.000919  0.567310  0.214483\n",
      "1           1   ATR_R       1  0.299771  0.000935  0.666079  0.243779\n",
      "2           2   ATR_R       2  0.334685  0.000961  0.745118  0.268511\n",
      "3           3   ATR_R       3  0.370716  0.000972  0.793672  0.287652\n",
      "4           4   ATR_R       4  0.402095  0.000966  0.829839  0.303777\n",
      "   Subject Release Acquisition Gender    Age  3T_Full_MR_Compl  T1_Count  \\\n",
      "0   100004    S900         Q06      M  22-25             False         0   \n",
      "1   100206    S900         Q11      M  26-30              True         1   \n",
      "2   100307      Q1         Q01      F  26-30              True         1   \n",
      "3   100408      Q3         Q03      M  31-35              True         1   \n",
      "4   100610    S900         Q08      M  26-30              True         2   \n",
      "\n",
      "   T2_Count  3T_RS-fMRI_Count  3T_RS-fMRI_PctCompl  ...  Noise_Comp  \\\n",
      "0         0                 0                  0.0  ...         5.2   \n",
      "1         1                 4                100.0  ...         6.0   \n",
      "2         1                 4                100.0  ...         3.6   \n",
      "3         1                 4                100.0  ...         2.0   \n",
      "4         1                 4                100.0  ...         2.0   \n",
      "\n",
      "   Odor_Unadj  Odor_AgeAdj  PainIntens_RawScore  PainInterf_Tscore  \\\n",
      "0      101.12        86.45                  2.0               45.9   \n",
      "1      108.79        97.19                  1.0               49.7   \n",
      "2      101.12        86.45                  0.0               38.6   \n",
      "3      108.79        98.04                  2.0               52.6   \n",
      "4      122.25       110.45                  0.0               38.6   \n",
      "\n",
      "   Taste_Unadj  Taste_AgeAdj  Mars_Log_Score  Mars_Errs  Mars_Final  \n",
      "0       107.17        105.31            1.80        0.0        1.80  \n",
      "1        72.63         72.03            1.84        0.0        1.84  \n",
      "2        71.69         71.76            1.76        0.0        1.76  \n",
      "3       114.01        113.59            1.76        2.0        1.68  \n",
      "4        84.84         85.31            1.92        1.0        1.88  \n",
      "\n",
      "[5 rows x 582 columns]\n",
      "Age\n",
      "26-30    527\n",
      "31-35    418\n",
      "22-25    247\n",
      "36+       14\n",
      "Name: count, dtype: int64\n",
      "Index(['26-30', '31-35', '22-25', '36+'], dtype='object', name='Age')\n",
      "0    22-25\n",
      "1    26-30\n",
      "2    26-30\n",
      "3    31-35\n",
      "4    26-30\n",
      "Name: Age, dtype: object\n",
      "Age\n",
      "26-30    527\n",
      "31-35    418\n",
      "22-25    247\n",
      "36+       14\n",
      "Name: count, dtype: int64\n",
      "Index(['26-30', '31-35', '22-25', '36+'], dtype='object', name='Age')\n",
      "[527 418 247  14]\n",
      "['steelblue', 'steelblue', 'steelblue', 'steelblue']\n"
     ]
    },
    {
     "data": {
      "application/vnd.jupyter.widget-view+json": {
       "model_id": "d30b817e28484d84b4205f92baa31e46",
       "version_major": 2,
       "version_minor": 0
      },
      "text/plain": [
       "Output()"
      ]
     },
     "metadata": {},
     "output_type": "display_data"
    }
   ],
   "source": [
    "# app = App.from_csv(\"indicators.csv\")\n",
    "sub = '996782'\n",
    "\n",
    "# pull data from s3\n",
    "# fname = f's3://open-neurodata/rokem/hcp1200/afq/sub-{sub}/ses-01/sub-{sub}_dwi_space-RASMM_model-CSD_desc-prob-afq_profiles.csv'\n",
    "\n",
    "\n",
    "# pull data from local data directory\n",
    "data_path = Path('data')\n",
    "subdir = f'sub-{sub}/ses-01/'\n",
    "fname = f'sub-{sub}_dwi_space-RASMM_model-CSD_desc-prob-afq_profiles.csv'\n",
    "filepath = data_path / subdir / fname\n",
    "print(filepath)\n",
    "tract_interact = TractPlot.from_csv(filepath)\n",
    "\n",
    "behav_local = '../../hcp_behaviorals.csv'\n",
    "demograph = DemPlot.from_csv(behav_local)\n",
    "\n",
    "# app.container"
   ]
  },
  {
   "cell_type": "code",
   "execution_count": 5,
   "metadata": {},
   "outputs": [],
   "source": [
    "# just temporarily testing things:\n",
    "# df = pd.read_csv(behav_local)\n",
    "# age = df['T1_Count']\n",
    "# import bqplot.pyplot as plt\n",
    "# plt.hist(age)"
   ]
  },
  {
   "cell_type": "code",
   "execution_count": 6,
   "metadata": {},
   "outputs": [],
   "source": [
    "# Items that populate each section of the dashboard get defined here\n",
    "\n",
    "# List of items in the Demographics section:\n",
    "demogr_items = [\n",
    "    widgets.HTML((\n",
    "        '<h4>Demographics Information</h4>'), \n",
    "                 layout=widgets.Layout(width='auto', justify_content='space-between')), #section title\n",
    "    demograph.container\n",
    "    # add more widgets here\n",
    "]\n",
    "\n",
    "# List of items in the Behavioural section:\n",
    "behav_items = [\n",
    "    widgets.HTML(('<h4>Behavioural Data</h4>'), layout=widgets.Layout(width='auto', justify_content='space-between')), #section title\n",
    "    # add more widgets here, for example the demo plotter class\n",
    "]\n",
    "\n",
    "# List of items in the Neuroimaging section:\n",
    "neuro_items = [\n",
    "    widgets.HTML((\n",
    "        '<h4>Neuroimaging Data</h4>'\n",
    "        '<p>Select which tract and which DKI measure to display:<p>'), \n",
    "                 layout=widgets.Layout(width='auto', justify_content='space-between')), #section title\n",
    "    tract_interact.container # add more widgets here\n",
    "]"
   ]
  },
  {
   "cell_type": "code",
   "execution_count": 7,
   "metadata": {},
   "outputs": [
    {
     "data": {
      "application/vnd.jupyter.widget-view+json": {
       "model_id": "3a0d73aa2285459793b17281d90e5119",
       "version_major": 2,
       "version_minor": 0
      },
      "text/plain": [
       "GridBox(children=(HTML(value='<h1>Explore the Human Connectome Project Young Adult dataset!</h1><p>Select what…"
      ]
     },
     "execution_count": 7,
     "metadata": {},
     "output_type": "execute_result"
    }
   ],
   "source": [
    "# Render the different sections of the app\n",
    "\n",
    "# The header section contains only the main title and subtitle of the website as an HTML widget:\n",
    "header           = widgets.HTML((\n",
    "                        '<h1>Explore the Human Connectome Project Young Adult dataset!</h1>'\n",
    "                        '<p>Select what data to plot in the dropdowns of each section</p>'), \n",
    "                        layout=widgets.Layout(width='auto', grid_area='header'))\n",
    "\n",
    "# The demographics section is a \"box\" (container) that contains all of the widgets listed under the demogr_items (defined in cell above):\n",
    "demographics     = widgets.VBox(children=demogr_items,\n",
    "                        layout=widgets.Layout(width='auto', grid_area='demographics', border='2px solid grey', align_items='center'))\n",
    "\n",
    "# The behavioural section is a \"box\" (container) that contains all of the widgets listed under the behav_items (defined in cell above):\n",
    "behavioural      = widgets.VBox(children=behav_items,\n",
    "                        layout=widgets.Layout(width='auto', grid_area='behavioural', border='2px solid grey', align_items='center'))\n",
    "\n",
    "# The neuroimaging section is a \"box\" (container) that contains all of the widgets listed under the neuro_items (defined in cell above):\n",
    "neuroimaging     = widgets.VBox(children=neuro_items,\n",
    "                        layout=widgets.Layout(width='auto', grid_area='neuroimaging', border='2px solid grey', align_items='center'))\n",
    "\n",
    "# The footer section contains only the footer string and related hyperlinks as an HTML widget:\n",
    "footer           = widgets.HTML((\n",
    "                        '<p><i>Created at NeuroHackademy 2024 using the <b style=\"color:blue\"><a href=\"https://github.com/voila-dashboards/voici-demo\"> Voici demo template repository</a></b>. | <b style=\"color:blue\"><a href=\"https://github.com/NeuroHackademy2024/neuro-nav\">Link to code</a></b></i><p>'),\n",
    "                        layout=widgets.Layout(width='auto', grid_area='footer'))\n",
    "\n",
    "widgets.GridBox(children=[header, demographics, behavioural, neuroimaging, footer],\n",
    "        layout=widgets.Layout(\n",
    "            width='100%',\n",
    "            grid_template_rows='auto auto auto',\n",
    "            grid_template_columns='25% 25% 25% 25%',\n",
    "            grid_template_areas='''\n",
    "            \"header header header header\"\n",
    "            \"demographics demographics behavioural behavioural\"\n",
    "            \"neuroimaging neuroimaging neuroimaging neuroimaging\"\n",
    "            \"footer footer footer footer\"\n",
    "            ''')\n",
    "       )"
   ]
  },
  {
   "cell_type": "code",
   "execution_count": null,
   "metadata": {},
   "outputs": [],
   "source": []
  }
 ],
 "metadata": {
  "kernelspec": {
   "display_name": "Python 3 (ipykernel)",
   "language": "python",
   "name": "python3"
  },
  "language_info": {
   "codemirror_mode": {
    "name": "ipython",
    "version": 3
   },
   "file_extension": ".py",
   "mimetype": "text/x-python",
   "name": "python",
   "nbconvert_exporter": "python",
   "pygments_lexer": "ipython3",
   "version": "3.10.14"
  },
  "vscode": {
   "interpreter": {
    "hash": "e7370f93d1d0cde622a1f8e1c04877d8463912d04d973331ad4851f04de6915a"
   }
  }
 },
 "nbformat": 4,
 "nbformat_minor": 4
}
