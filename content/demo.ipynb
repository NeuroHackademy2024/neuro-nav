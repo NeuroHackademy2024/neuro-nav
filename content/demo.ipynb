{
 "cells": [
  {
   "cell_type": "code",
   "execution_count": 1,
   "metadata": {
    "tags": []
   },
   "outputs": [],
   "source": [
    "import pandas as pd\n",
    "import numpy as np\n",
    "import ipywidgets as widgets\n",
    "from IPython.display import HTML\n",
    "from pathlib import Path\n",
    "\n",
    "from classes import TractPlot, BehavPlot,FileLoader"
   ]
  },
  {
   "cell_type": "code",
   "execution_count": 2,
   "metadata": {
    "tags": []
   },
   "outputs": [],
   "source": [
    "from bqplot import Figure, Scatter, Axis, LinearScale"
   ]
  },
  {
   "cell_type": "code",
   "execution_count": 3,
   "metadata": {
    "tags": []
   },
   "outputs": [
    {
     "data": {
      "text/html": [
       "<style>\n",
       ".app-subtitle {\n",
       "    font-size: 1.5em;\n",
       "}\n",
       "\n",
       ".app-subtitle a {\n",
       "    color: #106ba3;\n",
       "}\n",
       "\n",
       ".app-subtitle a:hover {\n",
       "    text-decoration: underline;\n",
       "}\n",
       "\n",
       ".app-sidebar p {\n",
       "    margin-bottom: 1em;\n",
       "    line-height: 1.7;\n",
       "}\n",
       "\n",
       ".app-sidebar a {\n",
       "    color: #106ba3;\n",
       "}\n",
       "\n",
       ".app-sidebar a:hover {\n",
       "    text-decoration: underline;\n",
       "}\n",
       "</style>\n"
      ],
      "text/plain": [
       "<IPython.core.display.HTML object>"
      ]
     },
     "execution_count": 3,
     "metadata": {},
     "output_type": "execute_result"
    }
   ],
   "source": [
    "HTML(\"\"\"\\\n",
    "<style>\n",
    ".app-subtitle {\n",
    "    font-size: 1.5em;\n",
    "}\n",
    "\n",
    ".app-subtitle a {\n",
    "    color: #106ba3;\n",
    "}\n",
    "\n",
    ".app-subtitle a:hover {\n",
    "    text-decoration: underline;\n",
    "}\n",
    "\n",
    ".app-sidebar p {\n",
    "    margin-bottom: 1em;\n",
    "    line-height: 1.7;\n",
    "}\n",
    "\n",
    ".app-sidebar a {\n",
    "    color: #106ba3;\n",
    "}\n",
    "\n",
    ".app-sidebar a:hover {\n",
    "    text-decoration: underline;\n",
    "}\n",
    "</style>\n",
    "\"\"\")"
   ]
  },
  {
   "cell_type": "code",
   "execution_count": 4,
   "metadata": {
    "tags": []
   },
   "outputs": [
    {
     "name": "stdout",
     "output_type": "stream",
     "text": [
      "Index(['PicSeq_AgeAdj', 'CardSort_AgeAdj', 'Flanker_AgeAdj', 'ListSort_AgeAdj',\n",
      "       'ReadEng_AgeAdj', 'PicVocab_AgeAdj', 'ProcSpeed_AgeAdj',\n",
      "       'FS_TotCort_GM_Vol', 'FS_SubCort_GM_Vol', 'FS_Total_GM_Vol',\n",
      "       'FS_L_WM_Vol', 'FS_R_WM_Vol', 'FS_Tot_WM_Vol'],\n",
      "      dtype='object')\n",
      "   PicSeq_AgeAdj  CardSort_AgeAdj  Flanker_AgeAdj  ListSort_AgeAdj  \\\n",
      "0            NaN              NaN             NaN              NaN   \n",
      "\n",
      "   ReadEng_AgeAdj  PicVocab_AgeAdj  ProcSpeed_AgeAdj  FS_TotCort_GM_Vol  \\\n",
      "0             NaN              NaN               NaN                NaN   \n",
      "\n",
      "   FS_SubCort_GM_Vol  FS_Total_GM_Vol  FS_L_WM_Vol  FS_R_WM_Vol  FS_Tot_WM_Vol  \n",
      "0                NaN              NaN          NaN          NaN            NaN  \n",
      "('PicSeq_AgeAdj', 'CardSort_AgeAdj', 'Flanker_AgeAdj', 'ListSort_AgeAdj', 'ReadEng_AgeAdj', 'PicVocab_AgeAdj', 'ProcSpeed_AgeAdj', 'FS_TotCort_GM_Vol', 'FS_SubCort_GM_Vol', 'FS_Total_GM_Vol', 'FS_L_WM_Vol', 'FS_R_WM_Vol', 'FS_Tot_WM_Vol')\n",
      "('PicSeq_AgeAdj', 'CardSort_AgeAdj', 'Flanker_AgeAdj', 'ListSort_AgeAdj', 'ReadEng_AgeAdj', 'PicVocab_AgeAdj', 'ProcSpeed_AgeAdj', 'FS_TotCort_GM_Vol', 'FS_SubCort_GM_Vol', 'FS_Total_GM_Vol', 'FS_L_WM_Vol', 'FS_R_WM_Vol', 'FS_Tot_WM_Vol')\n",
      "PicSeq_AgeAdj\n",
      "CardSort_AgeAdj\n",
      "0   NaN\n",
      "Name: PicSeq_AgeAdj, dtype: float64\n",
      "0   NaN\n",
      "Name: CardSort_AgeAdj, dtype: float64\n",
      "Scatter(colors=['steelblue'], interactions={'hover': 'tooltip'}, opacities=array([0.5]), scales={'x': LinearScale(), 'y': LinearScale()}, scales_metadata={'x': {'orientation': 'horizontal', 'dimension': 'x'}, 'y': {'orientation': 'vertical', 'dimension': 'y'}, 'color': {'dimension': 'color'}, 'size': {'dimension': 'size'}, 'opacity': {'dimension': 'opacity'}, 'rotation': {'dimension': 'rotation'}, 'skew': {'dimension': 'skew'}}, tooltip_style={'opacity': 0.9}, x=array([nan]), y=array([nan]))\n",
      "data/sub-996782/ses-01/sub-996782_dwi_space-RASMM_model-CSD_desc-prob-afq_profiles.csv\n",
      "   Unnamed: 0 tractID  nodeID    dki_fa    dki_md    dki_mk   dki_awf\n",
      "0           0   ATR_R       0  0.244326  0.000919  0.567310  0.214483\n",
      "1           1   ATR_R       1  0.299771  0.000935  0.666079  0.243779\n",
      "2           2   ATR_R       2  0.334685  0.000961  0.745118  0.268511\n",
      "3           3   ATR_R       3  0.370716  0.000972  0.793672  0.287652\n",
      "4           4   ATR_R       4  0.402095  0.000966  0.829839  0.303777\n"
     ]
    }
   ],
   "source": [
    "# Initialize class instances\n",
    "\n",
    "uploader = FileLoader() #file uploader object for local CSV data\n",
    "\n",
    "app = BehavPlot(uploader) #example interactive plot instance\n",
    "\n",
    "sub = '996782'\n",
    "\n",
    "# pull data from s3\n",
    "# fname = f's3://open-neurodata/rokem/hcp1200/afq/sub-{sub}/ses-01/sub-{sub}_dwi_space-RASMM_model-CSD_desc-prob-afq_profiles.csv'\n",
    "\n",
    "\n",
    "# pull data from local data directory\n",
    "data_path = Path('data')\n",
    "subdir = f'sub-{sub}/ses-01/'\n",
    "fname = f'sub-{sub}_dwi_space-RASMM_model-CSD_desc-prob-afq_profiles.csv'\n",
    "filepath = data_path / subdir / fname\n",
    "print(filepath)\n",
    "tract_interact = TractPlot.from_csv(filepath)\n",
    "\n"
   ]
  },
  {
   "cell_type": "code",
   "execution_count": 5,
   "metadata": {},
   "outputs": [],
   "source": [
    "# Items that populate each section of the dashboard get defined here\n",
    "\n",
    "# List of items in the Header section:\n",
    "header_items = [\n",
    "    widgets.HTML((  '<h1>Explore the Human Connectome Project Young Adult dataset!</h1>'\n",
    "                    '<p>Select what data to plot in the dropdowns of each section.</p>'\n",
    "                 ), layout=widgets.Layout(width='auto', grid_area='header')), #webapp title and subtitle\n",
    "]\n",
    "\n",
    "# List of items in the Demographics section:\n",
    "demogr_items = [\n",
    "    widgets.HTML(('<h4>Demographics Information</h4>'), layout=widgets.Layout(width='auto', justify_content='space-between')), #section title\n",
    "    uploader.container, #file uploader\n",
    "]\n",
    "\n",
    "# List of items in the Behavioural section:\n",
    "behav_items = [\n",
    "    widgets.HTML(('<h4>Behavioural Data</h4>'), layout=widgets.Layout(width='auto', justify_content='space-between')), #section title\n",
    "    app.container, #demo interactive plot\n",
    "    # add more widgets here\n",
    "]\n",
    "\n",
    "# List of items in the Neuroimaging section:\n",
    "neuro_items = [\n",
    "    widgets.HTML((\n",
    "        '<h4>Neuroimaging Data</h4>'\n",
    "        '<p>Select which tract and which DKI measure to display:<p>'), \n",
    "                 layout=widgets.Layout(width='auto', justify_content='space-between')), #section title\n",
    "    tract_interact.container # add more widgets here\n",
    "]"
   ]
  },
  {
   "cell_type": "code",
   "execution_count": 6,
   "metadata": {},
   "outputs": [
    {
     "data": {
      "application/vnd.jupyter.widget-view+json": {
       "model_id": "94048613a8c64d4da33fa249bf735130",
       "version_major": 2,
       "version_minor": 0
      },
      "text/plain": [
       "GridBox(children=(VBox(children=(HTML(value='<h1>Explore the Human Connectome Project Young Adult dataset!</h1…"
      ]
     },
     "execution_count": 6,
     "metadata": {},
     "output_type": "execute_result"
    }
   ],
   "source": [
    "# Render the different sections of the app\n",
    "\n",
    "# The header section is a \"box\" (container) that contains all of the widgets listed under the header_items (defined in cell above):\n",
    "header           = widgets.VBox(children=header_items,\n",
    "                        layout=widgets.Layout(width='auto', grid_area='header'))\n",
    "\n",
    "# The demographics section is a \"box\" (container) that contains all of the widgets listed under the demogr_items (defined in cell above):\n",
    "demographics     = widgets.VBox(children=demogr_items,\n",
    "                        layout=widgets.Layout(width='auto', grid_area='demographics', border='2px solid grey', align_items='center'))\n",
    "\n",
    "# The behavioural section is a \"box\" (container) that contains all of the widgets listed under the behav_items (defined in cell above):\n",
    "behavioural      = widgets.VBox(children=behav_items,\n",
    "                        layout=widgets.Layout(width='auto', grid_area='behavioural', border='2px solid grey', align_items='center'))\n",
    "\n",
    "# The neuroimaging section is a \"box\" (container) that contains all of the widgets listed under the neuro_items (defined in cell above):\n",
    "neuroimaging     = widgets.VBox(children=neuro_items,\n",
    "                        layout=widgets.Layout(width='auto', grid_area='neuroimaging', border='2px solid grey', align_items='center'))\n",
    "\n",
    "# The footer section contains only the footer string and related hyperlinks as an HTML widget:\n",
    "footer           = widgets.HTML((\n",
    "                        '<p><i>Created at NeuroHackademy 2024 using the <b style=\"color:blue\"><a href=\"https://github.com/voila-dashboards/voici-demo\"> Voici demo template repository</a></b>. | <b style=\"color:blue\"><a href=\"https://github.com/NeuroHackademy2024/neuro-nav\">Link to code</a></b></i></p>'),\n",
    "                        layout=widgets.Layout(width='auto', grid_area='footer'))\n",
    "\n",
    "widgets.GridBox(children=[header, demographics, behavioural, neuroimaging, footer],\n",
    "        layout=widgets.Layout(\n",
    "            width='100%',\n",
    "            grid_template_rows='auto auto auto',\n",
    "            grid_template_columns='25% 25% 25% 25%',\n",
    "            grid_template_areas='''\n",
    "            \"header header header header\"\n",
    "            \"demographics demographics behavioural behavioural\"\n",
    "            \"neuroimaging neuroimaging neuroimaging neuroimaging\"\n",
    "            \"footer footer footer footer\"\n",
    "            ''')\n",
    "       )"
   ]
  }
 ],
 "metadata": {
  "kernelspec": {
   "display_name": "Python 3 (ipykernel)",
   "language": "python",
   "name": "python3"
  },
  "language_info": {
   "codemirror_mode": {
    "name": "ipython",
    "version": 3
   },
   "file_extension": ".py",
   "mimetype": "text/x-python",
   "name": "python",
   "nbconvert_exporter": "python",
   "pygments_lexer": "ipython3",
   "version": "3.10.14"
  },
  "vscode": {
   "interpreter": {
    "hash": "e7370f93d1d0cde622a1f8e1c04877d8463912d04d973331ad4851f04de6915a"
   }
  }
 },
 "nbformat": 4,
 "nbformat_minor": 4
}
