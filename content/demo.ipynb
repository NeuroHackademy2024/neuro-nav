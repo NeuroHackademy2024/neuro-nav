{
 "cells": [
  {
   "cell_type": "code",
   "execution_count": 1,
   "metadata": {
    "tags": []
   },
   "outputs": [],
   "source": [
    "import pandas as pd\n",
    "import numpy as np\n",
    "import ipywidgets as widgets\n",
    "from IPython.display import HTML"
   ]
  },
  {
   "cell_type": "code",
   "execution_count": 2,
   "metadata": {
    "tags": []
   },
   "outputs": [],
   "source": [
    "from bqplot import Figure, Scatter, Axis, LinearScale"
   ]
  },
  {
   "cell_type": "code",
   "execution_count": 3,
   "metadata": {
    "tags": []
   },
   "outputs": [],
   "source": [
    "EXPLANATION = \"\"\"\\\n",
    "<div class=\"app-sidebar\">\n",
    "<p><em>Created at NeuroHackademy 2024.</em><p>\n",
    "\n",
    "<p>Select what data to plot in the dropdowns of each section.</p>\n",
    "\n",
    "<p>Created using the <a href=\"https://github.com/voila-dashboards/voici-demo\">\n",
    "Voici demo template repository</a>.</p>\n",
    "\n",
    "</div>\n",
    "\"\"\""
   ]
  },
  {
   "cell_type": "code",
   "execution_count": 4,
   "metadata": {
    "tags": []
   },
   "outputs": [
    {
     "data": {
      "text/html": [
       "<style>\n",
       ".app-subtitle {\n",
       "    font-size: 1.5em;\n",
       "}\n",
       "\n",
       ".app-subtitle a {\n",
       "    color: #106ba3;\n",
       "}\n",
       "\n",
       ".app-subtitle a:hover {\n",
       "    text-decoration: underline;\n",
       "}\n",
       "\n",
       ".app-sidebar p {\n",
       "    margin-bottom: 1em;\n",
       "    line-height: 1.7;\n",
       "}\n",
       "\n",
       ".app-sidebar a {\n",
       "    color: #106ba3;\n",
       "}\n",
       "\n",
       ".app-sidebar a:hover {\n",
       "    text-decoration: underline;\n",
       "}\n",
       "</style>\n"
      ],
      "text/plain": [
       "<IPython.core.display.HTML object>"
      ]
     },
     "execution_count": 4,
     "metadata": {},
     "output_type": "execute_result"
    }
   ],
   "source": [
    "HTML(\"\"\"\\\n",
    "<style>\n",
    ".app-subtitle {\n",
    "    font-size: 1.5em;\n",
    "}\n",
    "\n",
    ".app-subtitle a {\n",
    "    color: #106ba3;\n",
    "}\n",
    "\n",
    ".app-subtitle a:hover {\n",
    "    text-decoration: underline;\n",
    "}\n",
    "\n",
    ".app-sidebar p {\n",
    "    margin-bottom: 1em;\n",
    "    line-height: 1.7;\n",
    "}\n",
    "\n",
    ".app-sidebar a {\n",
    "    color: #106ba3;\n",
    "}\n",
    "\n",
    ".app-sidebar a:hover {\n",
    "    text-decoration: underline;\n",
    "}\n",
    "</style>\n",
    "\"\"\")"
   ]
  },
  {
   "cell_type": "code",
   "execution_count": 9,
   "metadata": {
    "tags": []
   },
   "outputs": [],
   "source": [
    "class App:\n",
    "\n",
    "    def __init__(self, df):\n",
    "        self._df = df\n",
    "        available_indicators = self._df['Indicator Name'].unique()\n",
    "        self._x_dropdown = self._create_indicator_dropdown(available_indicators, 0)\n",
    "        self._y_dropdown = self._create_indicator_dropdown(available_indicators, 1)\n",
    "\n",
    "        x_scale = LinearScale()\n",
    "        y_scale = LinearScale()\n",
    "\n",
    "        self._x_axis = Axis(scale=x_scale, label=\"X\")\n",
    "        self._y_axis = Axis(scale=y_scale, orientation=\"vertical\", label=\"Y\")\n",
    "\n",
    "        self._scatter = Scatter(\n",
    "            x=[], y=[], scales={\"x\": x_scale, \"y\": y_scale}\n",
    "        )\n",
    "\n",
    "        self._figure = Figure(marks=[self._scatter], axes=[self._x_axis, self._y_axis], layout=dict(width=\"99%\"), animation_duration=1000)\n",
    "\n",
    "        self._year_slider, year_slider_box = self._create_year_slider(\n",
    "            min(df['Year']), max(df['Year'])\n",
    "        )\n",
    "        _app_container = widgets.VBox([\n",
    "            widgets.HBox([self._x_dropdown, self._y_dropdown]),\n",
    "            self._figure,\n",
    "            year_slider_box\n",
    "        ], layout=widgets.Layout(align_items='center', flex='3 0 auto'))\n",
    "        self.container = widgets.VBox([\n",
    "            widgets.HTML(\n",
    "                (\n",
    "                    '<h1>Explore the Human Connectome Project Young Adult dataset!</h1>'\n",
    "                    '<h2 class=\"app-subtitle\"><a href=\"https://github.com/NeuroHackademy2024/neuro-nav\">Link to code</a></h2>'\n",
    "                ),\n",
    "                layout=widgets.Layout(margin='0 0 5em 0')\n",
    "            ),\n",
    "            widgets.HBox([\n",
    "                _app_container,\n",
    "                widgets.HTML(EXPLANATION, layout=widgets.Layout(margin='0 0 0 2em'))\n",
    "            ])\n",
    "        ], layout=widgets.Layout(flex='1 1 auto', margin='0 auto 0 auto', max_width='1024px'))\n",
    "        self._update_app()\n",
    "\n",
    "    @classmethod\n",
    "    def from_csv(cls, path):\n",
    "        df = pd.read_csv(path)\n",
    "        return cls(df)\n",
    "\n",
    "    def _create_indicator_dropdown(self, indicators, initial_index):\n",
    "        dropdown = widgets.Dropdown(options=indicators, value=indicators[initial_index])\n",
    "        dropdown.observe(self._on_change, names=['value'])\n",
    "        return dropdown\n",
    "\n",
    "    def _create_year_slider(self, min_year, max_year):\n",
    "        year_slider_label = widgets.Label('Year range: ')\n",
    "        year_slider = widgets.IntRangeSlider(\n",
    "            min=min_year, max=max_year,\n",
    "            layout=widgets.Layout(width='500px'),\n",
    "            continuous_update=False\n",
    "        )\n",
    "        year_slider.observe(self._on_change, names=['value'])\n",
    "        year_slider_box = widgets.HBox([year_slider_label, year_slider])\n",
    "        return year_slider, year_slider_box\n",
    "\n",
    "    def _on_change(self, _):\n",
    "        self._update_app()\n",
    "\n",
    "    def _update_app(self):\n",
    "        x_indicator = self._x_dropdown.value\n",
    "        y_indicator = self._y_dropdown.value\n",
    "        year_range = self._year_slider.value\n",
    "\n",
    "        with self._scatter.hold_sync():\n",
    "            df = self._df[self._df['Year'].between(*year_range)].dropna()\n",
    "            x = df[df['Indicator Name'] == x_indicator]['Value']\n",
    "            y = df[df['Indicator Name'] == y_indicator]['Value']\n",
    "\n",
    "            self._x_axis.label = x_indicator\n",
    "            self._y_axis.label = y_indicator\n",
    "\n",
    "            self._scatter.default_opacities = [0.2]\n",
    "\n",
    "            self._scatter.x = x\n",
    "            self._scatter.y = y"
   ]
  },
  {
   "cell_type": "code",
   "execution_count": 56,
   "metadata": {
    "tags": []
   },
   "outputs": [],
   "source": [
    "# app = App.from_csv(\"indicators.csv\")\n",
    "\n",
    "# app.container"
   ]
  },
  {
   "cell_type": "code",
   "execution_count": 89,
   "metadata": {},
   "outputs": [],
   "source": [
    "# Items that populate each section of the dashboard get defined here\n",
    "\n",
    "# List of items in the Demographics section:\n",
    "demogr_items = [\n",
    "    widgets.HTML(('<h4>Demographics Information</h4>'), layout=widgets.Layout(width='auto', justify_content='space-between')), #section title\n",
    "    # add more widgets here\n",
    "]\n",
    "\n",
    "# List of items in the Behavioural section:\n",
    "behav_items = [\n",
    "    widgets.HTML(('<h4>Behavioural Data</h4>'), layout=widgets.Layout(width='auto', justify_content='space-between')), #section title\n",
    "    # add more widgets here\n",
    "]\n",
    "\n",
    "# List of items in the Neuroimaging section:\n",
    "neuro_items = [\n",
    "    widgets.HTML(('<h4>Neuroimaging Data</h4>'), layout=widgets.Layout(width='auto', justify_content='space-between')), #section title\n",
    "    # add more widgets here\n",
    "]"
   ]
  },
  {
   "cell_type": "code",
   "execution_count": 91,
   "metadata": {},
   "outputs": [
    {
     "data": {
      "application/vnd.jupyter.widget-view+json": {
       "model_id": "2876afd3cb8543cc85fc718e56f916b4",
       "version_major": 2,
       "version_minor": 0
      },
      "text/plain": [
       "GridBox(children=(HTML(value='<h1>Explore the Human Connectome Project Young Adult dataset!</h1><p>Select what…"
      ]
     },
     "execution_count": 91,
     "metadata": {},
     "output_type": "execute_result"
    }
   ],
   "source": [
    "# Render the different sections of the app\n",
    "\n",
    "# The header section contains only the main title and subtitle of the website as an HTML widget:\n",
    "header           = widgets.HTML((\n",
    "                        '<h1>Explore the Human Connectome Project Young Adult dataset!</h1>'\n",
    "                        '<p>Select what data to plot in the dropdowns of each section</p>'), \n",
    "                        layout=widgets.Layout(width='auto', grid_area='header'))\n",
    "\n",
    "# The demographics section is a \"box\" (container) that contains all of the widgets listed under the demogr_items (defined in cell above):\n",
    "demographics     = widgets.VBox(children=demogr_items,\n",
    "                        layout=widgets.Layout(width='auto', grid_area='demographics', border='2px solid grey', align_items='center'))\n",
    "\n",
    "# The behavioural section is a \"box\" (container) that contains all of the widgets listed under the behav_items (defined in cell above):\n",
    "behavioural      = widgets.VBox(children=behav_items,\n",
    "                        layout=widgets.Layout(width='auto', grid_area='behavioural', border='2px solid grey', align_items='center'))\n",
    "\n",
    "# The neuroimaging section is a \"box\" (container) that contains all of the widgets listed under the neuro_items (defined in cell above):\n",
    "neuroimaging     = widgets.VBox(children=neuro_items,\n",
    "                        layout=widgets.Layout(width='auto', grid_area='neuroimaging', border='2px solid grey', align_items='center'))\n",
    "\n",
    "# The footer section contains only the footer string and related hyperlinks as an HTML widget:\n",
    "footer           = widgets.HTML((\n",
    "                        '<p><i>Created at NeuroHackademy 2024 using the <b style=\"color:blue\"><a href=\"https://github.com/voila-dashboards/voici-demo\"> Voici demo template repository</a></b>. | <b style=\"color:blue\"><a href=\"https://github.com/NeuroHackademy2024/neuro-nav\">Link to code</a></b></i><p>'),\n",
    "                        layout=widgets.Layout(width='auto', grid_area='footer'))\n",
    "\n",
    "widgets.GridBox(children=[header, demographics, behavioural, neuroimaging, footer],\n",
    "        layout=widgets.Layout(\n",
    "            width='100%',\n",
    "            grid_template_rows='auto auto auto',\n",
    "            grid_template_columns='25% 25% 25% 25%',\n",
    "            grid_template_areas='''\n",
    "            \"header header header header\"\n",
    "            \"demographics demographics behavioural behavioural\"\n",
    "            \"neuroimaging neuroimaging neuroimaging neuroimaging\"\n",
    "            \"footer footer footer footer\"\n",
    "            ''')\n",
    "       )"
   ]
  }
 ],
 "metadata": {
  "kernelspec": {
   "display_name": "Python 3 (ipykernel)",
   "language": "python",
   "name": "python3"
  },
  "language_info": {
   "codemirror_mode": {
    "name": "ipython",
    "version": 3
   },
   "file_extension": ".py",
   "mimetype": "text/x-python",
   "name": "python",
   "nbconvert_exporter": "python",
   "pygments_lexer": "ipython3",
   "version": "3.10.14"
  },
  "vscode": {
   "interpreter": {
    "hash": "e7370f93d1d0cde622a1f8e1c04877d8463912d04d973331ad4851f04de6915a"
   }
  }
 },
 "nbformat": 4,
 "nbformat_minor": 4
}
