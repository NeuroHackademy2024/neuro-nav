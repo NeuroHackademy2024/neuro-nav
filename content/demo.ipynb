{
 "cells": [
  {
   "cell_type": "code",
   "execution_count": 1,
   "metadata": {
    "tags": []
   },
   "outputs": [],
   "source": [
    "import pandas as pd\n",
    "import numpy as np\n",
    "import ipywidgets as widgets\n",
    "from IPython.display import HTML\n",
    "\n",
    "from classes import App"
   ]
  },
  {
   "cell_type": "code",
   "execution_count": 2,
   "metadata": {
    "tags": []
   },
   "outputs": [],
   "source": [
    "from bqplot import Figure, Scatter, Axis, LinearScale"
   ]
  },
  {
   "cell_type": "code",
   "execution_count": 3,
   "metadata": {
    "tags": []
   },
   "outputs": [
    {
     "data": {
      "text/html": [
       "<style>\n",
       ".app-subtitle {\n",
       "    font-size: 1.5em;\n",
       "}\n",
       "\n",
       ".app-subtitle a {\n",
       "    color: #106ba3;\n",
       "}\n",
       "\n",
       ".app-subtitle a:hover {\n",
       "    text-decoration: underline;\n",
       "}\n",
       "\n",
       ".app-sidebar p {\n",
       "    margin-bottom: 1em;\n",
       "    line-height: 1.7;\n",
       "}\n",
       "\n",
       ".app-sidebar a {\n",
       "    color: #106ba3;\n",
       "}\n",
       "\n",
       ".app-sidebar a:hover {\n",
       "    text-decoration: underline;\n",
       "}\n",
       "</style>\n"
      ],
      "text/plain": [
       "<IPython.core.display.HTML object>"
      ]
     },
     "execution_count": 3,
     "metadata": {},
     "output_type": "execute_result"
    }
   ],
   "source": [
    "HTML(\"\"\"\\\n",
    "<style>\n",
    ".app-subtitle {\n",
    "    font-size: 1.5em;\n",
    "}\n",
    "\n",
    ".app-subtitle a {\n",
    "    color: #106ba3;\n",
    "}\n",
    "\n",
    ".app-subtitle a:hover {\n",
    "    text-decoration: underline;\n",
    "}\n",
    "\n",
    ".app-sidebar p {\n",
    "    margin-bottom: 1em;\n",
    "    line-height: 1.7;\n",
    "}\n",
    "\n",
    ".app-sidebar a {\n",
    "    color: #106ba3;\n",
    "}\n",
    "\n",
    ".app-sidebar a:hover {\n",
    "    text-decoration: underline;\n",
    "}\n",
    "</style>\n",
    "\"\"\")"
   ]
  },
  {
   "cell_type": "code",
   "execution_count": 4,
   "metadata": {
    "tags": []
   },
   "outputs": [],
   "source": [
    "# class App:\n",
    "\n",
    "#     def __init__(self, df):\n",
    "#         self._df = df\n",
    "#         available_indicators = self._df['Indicator Name'].unique()\n",
    "#         self._x_dropdown = self._create_indicator_dropdown(available_indicators, 0)\n",
    "#         self._y_dropdown = self._create_indicator_dropdown(available_indicators, 1)\n",
    "\n",
    "#         x_scale = LinearScale()\n",
    "#         y_scale = LinearScale()\n",
    "\n",
    "#         self._x_axis = Axis(scale=x_scale, label=\"X\")\n",
    "#         self._y_axis = Axis(scale=y_scale, orientation=\"vertical\", label=\"Y\")\n",
    "\n",
    "#         self._scatter = Scatter(\n",
    "#             x=[], y=[], scales={\"x\": x_scale, \"y\": y_scale}\n",
    "#         )\n",
    "\n",
    "#         self._figure = Figure(marks=[self._scatter], axes=[self._x_axis, self._y_axis], layout=dict(width=\"99%\"), animation_duration=1000)\n",
    "\n",
    "#         self._year_slider, year_slider_box = self._create_year_slider(\n",
    "#             min(df['Year']), max(df['Year'])\n",
    "#         )\n",
    "#         _app_container = widgets.VBox([\n",
    "#             widgets.HBox([self._x_dropdown, self._y_dropdown]),\n",
    "#             self._figure,\n",
    "#             year_slider_box\n",
    "#         ], layout=widgets.Layout(align_items='center', flex='3 0 auto'))\n",
    "#         self.container = widgets.VBox([\n",
    "#             # widgets.HTML(\n",
    "#             #     (\n",
    "#             #         '<h1>Explore the Human Connectome Project Young Adult dataset!</h1>'\n",
    "#             #         '<h2 class=\"app-subtitle\"><a href=\"https://github.com/NeuroHackademy2024/neuro-nav\">Link to code</a></h2>'\n",
    "#             #     ),\n",
    "#             #     layout=widgets.Layout(margin='0 0 5em 0')\n",
    "#             # ),\n",
    "#             widgets.HBox([\n",
    "#                 _app_container,\n",
    "#                 # widgets.HTML(EXPLANATION, layout=widgets.Layout(margin='0 0 0 2em'))\n",
    "#             ])\n",
    "#         ], layout=widgets.Layout(flex='1 1 auto', margin='0 auto 0 auto', max_width='1024px'))\n",
    "#         self._update_app()\n",
    "\n",
    "#     @classmethod\n",
    "#     def from_csv(cls, path):\n",
    "#         if path == None:\n",
    "#             df = pd.read_csv('dummy_dataframe.csv')\n",
    "#         else:\n",
    "#             df = pd.read_csv(path)\n",
    "#             print(df.shape)\n",
    "#         return cls(df)\n",
    "\n",
    "#     def _create_indicator_dropdown(self, indicators, initial_index):\n",
    "#         dropdown = widgets.Dropdown(options=indicators, value=indicators[initial_index])\n",
    "#         dropdown.observe(self._on_change, names=['value'])\n",
    "#         return dropdown\n",
    "\n",
    "#     def _create_year_slider(self, min_year, max_year):\n",
    "#         year_slider_label = widgets.Label('Year range: ')\n",
    "#         year_slider = widgets.IntRangeSlider(\n",
    "#             min=min_year, max=max_year,\n",
    "#             layout=widgets.Layout(width='500px'),\n",
    "#             continuous_update=False\n",
    "#         )\n",
    "#         year_slider.observe(self._on_change, names=['value'])\n",
    "#         year_slider_box = widgets.HBox([year_slider_label, year_slider])\n",
    "#         return year_slider, year_slider_box\n",
    "\n",
    "#     def _on_change(self, _):\n",
    "#         self._update_app()\n",
    "\n",
    "#     def _update_app(self):\n",
    "#         x_indicator = self._x_dropdown.value\n",
    "#         y_indicator = self._y_dropdown.value\n",
    "#         year_range = self._year_slider.value\n",
    "\n",
    "#         with self._scatter.hold_sync():\n",
    "#             df = self._df[self._df['Year'].between(*year_range)].dropna()\n",
    "#             x = df[df['Indicator Name'] == x_indicator]['Value']\n",
    "#             y = df[df['Indicator Name'] == y_indicator]['Value']\n",
    "\n",
    "#             self._x_axis.label = x_indicator\n",
    "#             self._y_axis.label = y_indicator\n",
    "\n",
    "#             self._scatter.default_opacities = [0.2]\n",
    "\n",
    "#             self._scatter.x = x\n",
    "#             self._scatter.y = y"
   ]
  },
  {
   "cell_type": "code",
   "execution_count": 5,
   "metadata": {
    "tags": []
   },
   "outputs": [],
   "source": [
    "# Initialize class instances\n",
    "\n",
    "#uploader = FileLoader() #file uploader object for local CSV data\n",
    "\n",
    "app = App.from_csv(None) #demo plotter\n",
    "#app = App.from_csv('indicators.csv')"
   ]
  },
  {
   "cell_type": "code",
   "execution_count": 6,
   "metadata": {},
   "outputs": [],
   "source": [
    "# Items that populate each section of the dashboard get defined here\n",
    "\n",
    "# List of items in the Header section:\n",
    "header_items = [\n",
    "    widgets.HTML((  '<h1>Explore the Human Connectome Project Young Adult dataset!</h1>'\n",
    "                    '<p>Select what data to plot in the dropdowns of each section.</p>'\n",
    "                 ), layout=widgets.Layout(width='auto', grid_area='header')), #webapp title and subtitle\n",
    "]\n",
    "\n",
    "# List of items in the Demographics section:\n",
    "demogr_items = [\n",
    "    widgets.HTML(('<h4>Demographics Information</h4>'), layout=widgets.Layout(width='auto', justify_content='space-between')), #section title\n",
    "    #uploader.container, #file uploader widget\n",
    "    app.container\n",
    "]\n",
    "\n",
    "# List of items in the Behavioural section:\n",
    "behav_items = [\n",
    "    widgets.HTML(('<h4>Behavioural Data</h4>'), layout=widgets.Layout(width='auto', justify_content='space-between')), #section title\n",
    "    # add more widgets here\n",
    "]\n",
    "\n",
    "# List of items in the Neuroimaging section:\n",
    "neuro_items = [\n",
    "    widgets.HTML(('<h4>Neuroimaging Data</h4>'), layout=widgets.Layout(width='auto', justify_content='space-between')), #section title\n",
    "    # add more widgets here\n",
    "]"
   ]
  },
  {
   "cell_type": "code",
   "execution_count": null,
   "metadata": {},
   "outputs": [],
   "source": [
    "# Render the different sections of the app\n",
    "\n",
    "# The header section is a \"box\" (container) that contains all of the widgets listed under the header_items (defined in cell above):\n",
    "header           = widgets.VBox(children=header_items,\n",
    "                        layout=widgets.Layout(width='auto', grid_area='header'))\n",
    "\n",
    "# The demographics section is a \"box\" (container) that contains all of the widgets listed under the demogr_items (defined in cell above):\n",
    "demographics     = widgets.VBox(children=demogr_items,\n",
    "                        layout=widgets.Layout(width='auto', grid_area='demographics', border='2px solid grey', align_items='center'))\n",
    "\n",
    "# The behavioural section is a \"box\" (container) that contains all of the widgets listed under the behav_items (defined in cell above):\n",
    "behavioural      = widgets.VBox(children=behav_items,\n",
    "                        layout=widgets.Layout(width='auto', grid_area='behavioural', border='2px solid grey', align_items='center'))\n",
    "\n",
    "# The neuroimaging section is a \"box\" (container) that contains all of the widgets listed under the neuro_items (defined in cell above):\n",
    "neuroimaging     = widgets.VBox(children=neuro_items,\n",
    "                        layout=widgets.Layout(width='auto', grid_area='neuroimaging', border='2px solid grey', align_items='center'))\n",
    "\n",
    "# The footer section contains only the footer string and related hyperlinks as an HTML widget:\n",
    "footer           = widgets.HTML((\n",
    "                        '<p><i>Created at NeuroHackademy 2024 using the <b style=\"color:blue\"><a href=\"https://github.com/voila-dashboards/voici-demo\"> Voici demo template repository</a></b>. | <b style=\"color:blue\"><a href=\"https://github.com/NeuroHackademy2024/neuro-nav\">Link to code</a></b></i></p>'),\n",
    "                        layout=widgets.Layout(width='auto', grid_area='footer'))\n",
    "\n",
    "widgets.GridBox(children=[header, demographics, behavioural, neuroimaging, footer],\n",
    "        layout=widgets.Layout(\n",
    "            width='100%',\n",
    "            grid_template_rows='auto auto auto',\n",
    "            grid_template_columns='25% 25% 25% 25%',\n",
    "            grid_template_areas='''\n",
    "            \"header header header header\"\n",
    "            \"demographics demographics behavioural behavioural\"\n",
    "            \"neuroimaging neuroimaging neuroimaging neuroimaging\"\n",
    "            \"footer footer footer footer\"\n",
    "            ''')\n",
    "       )"
   ]
  },
  {
   "cell_type": "code",
   "execution_count": 9,
   "metadata": {},
   "outputs": [
    {
     "name": "stdout",
     "output_type": "stream",
     "text": [
      "       Unnamed: 0 Country Name  \\\n",
      "0               0   Arab World   \n",
      "1               1   Arab World   \n",
      "2               2   Arab World   \n",
      "3               3   Arab World   \n",
      "4               4   Arab World   \n",
      "...           ...          ...   \n",
      "85531       85531     Zimbabwe   \n",
      "85532       85532     Zimbabwe   \n",
      "85533       85533     Zimbabwe   \n",
      "85534       85534     Zimbabwe   \n",
      "85535       85535     Zimbabwe   \n",
      "\n",
      "                                          Indicator Name  Year      Value  \n",
      "0                    Agriculture, value added (% of GDP)  1952        NaN  \n",
      "1                 CO2 emissions (metric tons per capita)  1952        NaN  \n",
      "2      Domestic credit provided by financial sector (...  1952        NaN  \n",
      "3            Electric power consumption (kWh per capita)  1952        NaN  \n",
      "4           Energy use (kg of oil equivalent per capita)  1952        NaN  \n",
      "...                                                  ...   ...        ...  \n",
      "85531  Prevalence of HIV, total (% of population ages...  2007  16.500000  \n",
      "85532               Revenue, excluding grants (% of GDP)  2007        NaN  \n",
      "85533             Services, etc., value added (% of GDP)  2007  45.327139  \n",
      "85534                             Tax revenue (% of GDP)  2007        NaN  \n",
      "85535           Time required to start a business (days)  2007  94.000000  \n",
      "\n",
      "[85536 rows x 5 columns]\n"
     ]
    }
   ],
   "source": [
    "print(uploader.data)"
   ]
  },
  {
   "cell_type": "code",
   "execution_count": 31,
   "metadata": {},
   "outputs": [
    {
     "data": {
      "text/html": [
       "<div>\n",
       "<style scoped>\n",
       "    .dataframe tbody tr th:only-of-type {\n",
       "        vertical-align: middle;\n",
       "    }\n",
       "\n",
       "    .dataframe tbody tr th {\n",
       "        vertical-align: top;\n",
       "    }\n",
       "\n",
       "    .dataframe thead th {\n",
       "        text-align: right;\n",
       "    }\n",
       "</style>\n",
       "<table border=\"1\" class=\"dataframe\">\n",
       "  <thead>\n",
       "    <tr style=\"text-align: right;\">\n",
       "      <th></th>\n",
       "      <th>Country Name</th>\n",
       "      <th>Indicator Name</th>\n",
       "      <th>Year</th>\n",
       "      <th>Value</th>\n",
       "    </tr>\n",
       "  </thead>\n",
       "  <tbody>\n",
       "    <tr>\n",
       "      <th>0</th>\n",
       "      <td>Arab World</td>\n",
       "      <td>Agriculture, value added (% of GDP)</td>\n",
       "      <td>1952</td>\n",
       "      <td>NaN</td>\n",
       "    </tr>\n",
       "    <tr>\n",
       "      <th>1</th>\n",
       "      <td>Arab World</td>\n",
       "      <td>CO2 emissions (metric tons per capita)</td>\n",
       "      <td>1952</td>\n",
       "      <td>NaN</td>\n",
       "    </tr>\n",
       "    <tr>\n",
       "      <th>2</th>\n",
       "      <td>Arab World</td>\n",
       "      <td>Domestic credit provided by financial sector (...</td>\n",
       "      <td>1952</td>\n",
       "      <td>NaN</td>\n",
       "    </tr>\n",
       "    <tr>\n",
       "      <th>3</th>\n",
       "      <td>Arab World</td>\n",
       "      <td>Electric power consumption (kWh per capita)</td>\n",
       "      <td>1952</td>\n",
       "      <td>NaN</td>\n",
       "    </tr>\n",
       "    <tr>\n",
       "      <th>4</th>\n",
       "      <td>Arab World</td>\n",
       "      <td>Energy use (kg of oil equivalent per capita)</td>\n",
       "      <td>1952</td>\n",
       "      <td>NaN</td>\n",
       "    </tr>\n",
       "  </tbody>\n",
       "</table>\n",
       "</div>"
      ],
      "text/plain": [
       "  Country Name                                     Indicator Name  Year  Value\n",
       "0   Arab World                Agriculture, value added (% of GDP)  1952    NaN\n",
       "1   Arab World             CO2 emissions (metric tons per capita)  1952    NaN\n",
       "2   Arab World  Domestic credit provided by financial sector (...  1952    NaN\n",
       "3   Arab World        Electric power consumption (kWh per capita)  1952    NaN\n",
       "4   Arab World       Energy use (kg of oil equivalent per capita)  1952    NaN"
      ]
     },
     "execution_count": 31,
     "metadata": {},
     "output_type": "execute_result"
    }
   ],
   "source": [
    "dummy = pd.read_csv('indicators.csv', index_col=0, header=0)\n",
    "dummy.head()"
   ]
  },
  {
   "cell_type": "code",
   "execution_count": 48,
   "metadata": {},
   "outputs": [
    {
     "data": {
      "text/plain": [
       "4"
      ]
     },
     "execution_count": 48,
     "metadata": {},
     "output_type": "execute_result"
    }
   ],
   "source": [
    "dummy.columns\n",
    "num_cols = len(dummy.columns)\n",
    "num_cols"
   ]
  },
  {
   "cell_type": "code",
   "execution_count": 55,
   "metadata": {},
   "outputs": [
    {
     "ename": "TypeError",
     "evalue": "Field elements must be 2- or 3-tuples, got '<class 'str'>'",
     "output_type": "error",
     "traceback": [
      "\u001b[0;31m---------------------------------------------------------------------------\u001b[0m",
      "\u001b[0;31mTypeError\u001b[0m                                 Traceback (most recent call last)",
      "Cell \u001b[0;32mIn[55], line 1\u001b[0m\n\u001b[0;32m----> 1\u001b[0m dummy1 \u001b[38;5;241m=\u001b[39m \u001b[43mpd\u001b[49m\u001b[38;5;241;43m.\u001b[39;49m\u001b[43mDataFrame\u001b[49m\u001b[43m(\u001b[49m\u001b[43mdata\u001b[49m\u001b[38;5;241;43m=\u001b[39;49m\u001b[43mnp\u001b[49m\u001b[38;5;241;43m.\u001b[39;49m\u001b[43mrandom\u001b[49m\u001b[38;5;241;43m.\u001b[39;49m\u001b[43mrandint\u001b[49m\u001b[43m(\u001b[49m\u001b[38;5;241;43m2\u001b[39;49m\u001b[43m,\u001b[49m\u001b[43msize\u001b[49m\u001b[38;5;241;43m=\u001b[39;49m\u001b[43m(\u001b[49m\u001b[38;5;241;43m100\u001b[39;49m\u001b[43m,\u001b[49m\u001b[43mnum_cols\u001b[49m\u001b[43m)\u001b[49m\u001b[43m)\u001b[49m\u001b[43m,\u001b[49m\u001b[43m \u001b[49m\u001b[43mcolumns\u001b[49m\u001b[38;5;241;43m=\u001b[39;49m\u001b[43mdummy\u001b[49m\u001b[38;5;241;43m.\u001b[39;49m\u001b[43mcolumns\u001b[49m\u001b[43m,\u001b[49m\u001b[43m \u001b[49m\u001b[43mdtype\u001b[49m\u001b[38;5;241;43m=\u001b[39;49m\u001b[43m[\u001b[49m\u001b[38;5;28;43mstr\u001b[39;49m\u001b[43m,\u001b[49m\u001b[43m \u001b[49m\u001b[38;5;28;43mstr\u001b[39;49m\u001b[43m,\u001b[49m\u001b[43m \u001b[49m\u001b[38;5;28;43mint\u001b[39;49m\u001b[43m,\u001b[49m\u001b[43m \u001b[49m\u001b[38;5;28;43mfloat\u001b[39;49m\u001b[43m]\u001b[49m\u001b[43m)\u001b[49m\n\u001b[1;32m      2\u001b[0m dummy1\u001b[38;5;241m.\u001b[39mhead()\n",
      "File \u001b[0;32m/srv/conda/envs/notebook/lib/python3.10/site-packages/pandas/core/frame.py:674\u001b[0m, in \u001b[0;36mDataFrame.__init__\u001b[0;34m(self, data, index, columns, dtype, copy)\u001b[0m\n\u001b[1;32m    665\u001b[0m \u001b[38;5;28;01mdef\u001b[39;00m \u001b[38;5;21m__init__\u001b[39m(\n\u001b[1;32m    666\u001b[0m     \u001b[38;5;28mself\u001b[39m,\n\u001b[1;32m    667\u001b[0m     data\u001b[38;5;241m=\u001b[39m\u001b[38;5;28;01mNone\u001b[39;00m,\n\u001b[0;32m   (...)\u001b[0m\n\u001b[1;32m    671\u001b[0m     copy: \u001b[38;5;28mbool\u001b[39m \u001b[38;5;241m|\u001b[39m \u001b[38;5;28;01mNone\u001b[39;00m \u001b[38;5;241m=\u001b[39m \u001b[38;5;28;01mNone\u001b[39;00m,\n\u001b[1;32m    672\u001b[0m ) \u001b[38;5;241m-\u001b[39m\u001b[38;5;241m>\u001b[39m \u001b[38;5;28;01mNone\u001b[39;00m:\n\u001b[1;32m    673\u001b[0m     \u001b[38;5;28;01mif\u001b[39;00m dtype \u001b[38;5;129;01mis\u001b[39;00m \u001b[38;5;129;01mnot\u001b[39;00m \u001b[38;5;28;01mNone\u001b[39;00m:\n\u001b[0;32m--> 674\u001b[0m         dtype \u001b[38;5;241m=\u001b[39m \u001b[38;5;28;43mself\u001b[39;49m\u001b[38;5;241;43m.\u001b[39;49m\u001b[43m_validate_dtype\u001b[49m\u001b[43m(\u001b[49m\u001b[43mdtype\u001b[49m\u001b[43m)\u001b[49m\n\u001b[1;32m    676\u001b[0m     \u001b[38;5;28;01mif\u001b[39;00m \u001b[38;5;28misinstance\u001b[39m(data, DataFrame):\n\u001b[1;32m    677\u001b[0m         data \u001b[38;5;241m=\u001b[39m data\u001b[38;5;241m.\u001b[39m_mgr\n",
      "File \u001b[0;32m/srv/conda/envs/notebook/lib/python3.10/site-packages/pandas/core/generic.py:492\u001b[0m, in \u001b[0;36mNDFrame._validate_dtype\u001b[0;34m(cls, dtype)\u001b[0m\n\u001b[1;32m    490\u001b[0m \u001b[38;5;250m\u001b[39m\u001b[38;5;124;03m\"\"\"validate the passed dtype\"\"\"\u001b[39;00m\n\u001b[1;32m    491\u001b[0m \u001b[38;5;28;01mif\u001b[39;00m dtype \u001b[38;5;129;01mis\u001b[39;00m \u001b[38;5;129;01mnot\u001b[39;00m \u001b[38;5;28;01mNone\u001b[39;00m:\n\u001b[0;32m--> 492\u001b[0m     dtype \u001b[38;5;241m=\u001b[39m \u001b[43mpandas_dtype\u001b[49m\u001b[43m(\u001b[49m\u001b[43mdtype\u001b[49m\u001b[43m)\u001b[49m\n\u001b[1;32m    494\u001b[0m     \u001b[38;5;66;03m# a compound dtype\u001b[39;00m\n\u001b[1;32m    495\u001b[0m     \u001b[38;5;28;01mif\u001b[39;00m dtype\u001b[38;5;241m.\u001b[39mkind \u001b[38;5;241m==\u001b[39m \u001b[38;5;124m\"\u001b[39m\u001b[38;5;124mV\u001b[39m\u001b[38;5;124m\"\u001b[39m:\n",
      "File \u001b[0;32m/srv/conda/envs/notebook/lib/python3.10/site-packages/pandas/core/dtypes/common.py:1636\u001b[0m, in \u001b[0;36mpandas_dtype\u001b[0;34m(dtype)\u001b[0m\n\u001b[1;32m   1631\u001b[0m     \u001b[38;5;28;01mwith\u001b[39;00m warnings\u001b[38;5;241m.\u001b[39mcatch_warnings():\n\u001b[1;32m   1632\u001b[0m         \u001b[38;5;66;03m# GH#51523 - Series.astype(np.integer) doesn't show\u001b[39;00m\n\u001b[1;32m   1633\u001b[0m         \u001b[38;5;66;03m# numpy deprecation warning of np.integer\u001b[39;00m\n\u001b[1;32m   1634\u001b[0m         \u001b[38;5;66;03m# Hence enabling DeprecationWarning\u001b[39;00m\n\u001b[1;32m   1635\u001b[0m         warnings\u001b[38;5;241m.\u001b[39msimplefilter(\u001b[38;5;124m\"\u001b[39m\u001b[38;5;124malways\u001b[39m\u001b[38;5;124m\"\u001b[39m, \u001b[38;5;167;01mDeprecationWarning\u001b[39;00m)\n\u001b[0;32m-> 1636\u001b[0m         npdtype \u001b[38;5;241m=\u001b[39m \u001b[43mnp\u001b[49m\u001b[38;5;241;43m.\u001b[39;49m\u001b[43mdtype\u001b[49m\u001b[43m(\u001b[49m\u001b[43mdtype\u001b[49m\u001b[43m)\u001b[49m\n\u001b[1;32m   1637\u001b[0m \u001b[38;5;28;01mexcept\u001b[39;00m \u001b[38;5;167;01mSyntaxError\u001b[39;00m \u001b[38;5;28;01mas\u001b[39;00m err:\n\u001b[1;32m   1638\u001b[0m     \u001b[38;5;66;03m# np.dtype uses `eval` which can raise SyntaxError\u001b[39;00m\n\u001b[1;32m   1639\u001b[0m     \u001b[38;5;28;01mraise\u001b[39;00m \u001b[38;5;167;01mTypeError\u001b[39;00m(\u001b[38;5;124mf\u001b[39m\u001b[38;5;124m\"\u001b[39m\u001b[38;5;124mdata type \u001b[39m\u001b[38;5;124m'\u001b[39m\u001b[38;5;132;01m{\u001b[39;00mdtype\u001b[38;5;132;01m}\u001b[39;00m\u001b[38;5;124m'\u001b[39m\u001b[38;5;124m not understood\u001b[39m\u001b[38;5;124m\"\u001b[39m) \u001b[38;5;28;01mfrom\u001b[39;00m \u001b[38;5;21;01merr\u001b[39;00m\n",
      "\u001b[0;31mTypeError\u001b[0m: Field elements must be 2- or 3-tuples, got '<class 'str'>'"
     ]
    }
   ],
   "source": [
    "dummy1 = pd.DataFrame(data=np.random.randint(2,size=(100,num_cols)), columns=dummy.columns, dtype=[str, str, int, float])\n",
    "dummy1.head()\n"
   ]
  },
  {
   "cell_type": "code",
   "execution_count": 6,
   "metadata": {},
   "outputs": [
    {
     "data": {
      "text/html": [
       "<div>\n",
       "<style scoped>\n",
       "    .dataframe tbody tr th:only-of-type {\n",
       "        vertical-align: middle;\n",
       "    }\n",
       "\n",
       "    .dataframe tbody tr th {\n",
       "        vertical-align: top;\n",
       "    }\n",
       "\n",
       "    .dataframe thead th {\n",
       "        text-align: right;\n",
       "    }\n",
       "</style>\n",
       "<table border=\"1\" class=\"dataframe\">\n",
       "  <thead>\n",
       "    <tr style=\"text-align: right;\">\n",
       "      <th></th>\n",
       "      <th>Unnamed: 0</th>\n",
       "      <th>Country Name</th>\n",
       "      <th>Indicator Name</th>\n",
       "      <th>Year</th>\n",
       "      <th>Value</th>\n",
       "    </tr>\n",
       "  </thead>\n",
       "  <tbody>\n",
       "    <tr>\n",
       "      <th>0</th>\n",
       "      <td>0</td>\n",
       "      <td>No Data</td>\n",
       "      <td>No</td>\n",
       "      <td>9999</td>\n",
       "      <td>0</td>\n",
       "    </tr>\n",
       "    <tr>\n",
       "      <th>1</th>\n",
       "      <td>1</td>\n",
       "      <td>No Data</td>\n",
       "      <td>No</td>\n",
       "      <td>9999</td>\n",
       "      <td>0</td>\n",
       "    </tr>\n",
       "    <tr>\n",
       "      <th>2</th>\n",
       "      <td>2</td>\n",
       "      <td>No Data</td>\n",
       "      <td>No</td>\n",
       "      <td>9999</td>\n",
       "      <td>0</td>\n",
       "    </tr>\n",
       "    <tr>\n",
       "      <th>3</th>\n",
       "      <td>3</td>\n",
       "      <td>No Data</td>\n",
       "      <td>No</td>\n",
       "      <td>9999</td>\n",
       "      <td>0</td>\n",
       "    </tr>\n",
       "    <tr>\n",
       "      <th>4</th>\n",
       "      <td>4</td>\n",
       "      <td>No Data</td>\n",
       "      <td>No</td>\n",
       "      <td>9999</td>\n",
       "      <td>0</td>\n",
       "    </tr>\n",
       "  </tbody>\n",
       "</table>\n",
       "</div>"
      ],
      "text/plain": [
       "   Unnamed: 0 Country Name Indicator Name  Year  Value\n",
       "0           0      No Data             No  9999      0\n",
       "1           1      No Data             No  9999      0\n",
       "2           2      No Data             No  9999      0\n",
       "3           3      No Data             No  9999      0\n",
       "4           4      No Data             No  9999      0"
      ]
     },
     "execution_count": 6,
     "metadata": {},
     "output_type": "execute_result"
    }
   ],
   "source": [
    "dummy1=pd.read_csv('dummy_dataframe.csv')\n",
    "dummy1.head()"
   ]
  },
  {
   "cell_type": "code",
   "execution_count": 7,
   "metadata": {},
   "outputs": [
    {
     "data": {
      "text/plain": [
       "array(['No', 'Data'], dtype=object)"
      ]
     },
     "execution_count": 7,
     "metadata": {},
     "output_type": "execute_result"
    }
   ],
   "source": [
    "dummy1['Indicator Name'].unique()"
   ]
  },
  {
   "cell_type": "code",
   "execution_count": null,
   "metadata": {},
   "outputs": [],
   "source": []
  }
 ],
 "metadata": {
  "kernelspec": {
   "display_name": "Python 3 (ipykernel)",
   "language": "python",
   "name": "python3"
  },
  "language_info": {
   "codemirror_mode": {
    "name": "ipython",
    "version": 3
   },
   "file_extension": ".py",
   "mimetype": "text/x-python",
   "name": "python",
   "nbconvert_exporter": "python",
   "pygments_lexer": "ipython3",
   "version": "3.10.14"
  },
  "vscode": {
   "interpreter": {
    "hash": "e7370f93d1d0cde622a1f8e1c04877d8463912d04d973331ad4851f04de6915a"
   }
  }
 },
 "nbformat": 4,
 "nbformat_minor": 4
}
