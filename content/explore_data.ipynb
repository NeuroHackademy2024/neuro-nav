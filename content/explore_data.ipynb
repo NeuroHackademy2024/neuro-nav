{
 "cells": [
  {
   "cell_type": "markdown",
   "id": "0c16b390-8005-4c13-962c-382e44287255",
   "metadata": {},
   "source": [
    "Notebook for exploring data for neuro-nav app"
   ]
  },
  {
   "cell_type": "code",
   "execution_count": 4,
   "id": "71a10dda-9272-4898-92f5-9e84c44183ad",
   "metadata": {},
   "outputs": [
    {
     "data": {
      "text/html": [
       "<div>\n",
       "<style scoped>\n",
       "    .dataframe tbody tr th:only-of-type {\n",
       "        vertical-align: middle;\n",
       "    }\n",
       "\n",
       "    .dataframe tbody tr th {\n",
       "        vertical-align: top;\n",
       "    }\n",
       "\n",
       "    .dataframe thead th {\n",
       "        text-align: right;\n",
       "    }\n",
       "</style>\n",
       "<table border=\"1\" class=\"dataframe\">\n",
       "  <thead>\n",
       "    <tr style=\"text-align: right;\">\n",
       "      <th></th>\n",
       "      <th>tractID</th>\n",
       "      <th>nodeID</th>\n",
       "      <th>dki_fa</th>\n",
       "      <th>dki_md</th>\n",
       "      <th>dki_mk</th>\n",
       "      <th>dki_awf</th>\n",
       "    </tr>\n",
       "  </thead>\n",
       "  <tbody>\n",
       "    <tr>\n",
       "      <th>0</th>\n",
       "      <td>ATR_R</td>\n",
       "      <td>0</td>\n",
       "      <td>0.240520</td>\n",
       "      <td>0.000877</td>\n",
       "      <td>0.668971</td>\n",
       "      <td>0.236666</td>\n",
       "    </tr>\n",
       "    <tr>\n",
       "      <th>1</th>\n",
       "      <td>ATR_R</td>\n",
       "      <td>1</td>\n",
       "      <td>0.293841</td>\n",
       "      <td>0.000879</td>\n",
       "      <td>0.751055</td>\n",
       "      <td>0.259638</td>\n",
       "    </tr>\n",
       "    <tr>\n",
       "      <th>2</th>\n",
       "      <td>ATR_R</td>\n",
       "      <td>2</td>\n",
       "      <td>0.334611</td>\n",
       "      <td>0.000895</td>\n",
       "      <td>0.825566</td>\n",
       "      <td>0.282275</td>\n",
       "    </tr>\n",
       "    <tr>\n",
       "      <th>3</th>\n",
       "      <td>ATR_R</td>\n",
       "      <td>3</td>\n",
       "      <td>0.371301</td>\n",
       "      <td>0.000904</td>\n",
       "      <td>0.879683</td>\n",
       "      <td>0.302245</td>\n",
       "    </tr>\n",
       "    <tr>\n",
       "      <th>4</th>\n",
       "      <td>ATR_R</td>\n",
       "      <td>4</td>\n",
       "      <td>0.400966</td>\n",
       "      <td>0.000905</td>\n",
       "      <td>0.922666</td>\n",
       "      <td>0.319311</td>\n",
       "    </tr>\n",
       "  </tbody>\n",
       "</table>\n",
       "</div>"
      ],
      "text/plain": [
       "  tractID  nodeID    dki_fa    dki_md    dki_mk   dki_awf\n",
       "0   ATR_R       0  0.240520  0.000877  0.668971  0.236666\n",
       "1   ATR_R       1  0.293841  0.000879  0.751055  0.259638\n",
       "2   ATR_R       2  0.334611  0.000895  0.825566  0.282275\n",
       "3   ATR_R       3  0.371301  0.000904  0.879683  0.302245\n",
       "4   ATR_R       4  0.400966  0.000905  0.922666  0.319311"
      ]
     },
     "execution_count": 4,
     "metadata": {},
     "output_type": "execute_result"
    }
   ],
   "source": [
    "import pandas as pd\n",
    "\n",
    "\n",
    "#read in tractometry csv from a single subject\n",
    "sub = '930449'\n",
    "\n",
    "fname = f's3://open-neurodata/rokem/hcp1200/afq/sub-{sub}/ses-01/sub-{sub}_dwi_space-RASMM_model-CSD_desc-prob-afq_profiles.csv'\n",
    "\n",
    "df = pd.read_csv(fname, index_col = 0)\n",
    "\n",
    "df.head()"
   ]
  },
  {
   "cell_type": "code",
   "execution_count": 7,
   "id": "316ef94e-d1de-42fe-bd37-b772bb5ed92c",
   "metadata": {},
   "outputs": [
    {
     "name": "stdout",
     "output_type": "stream",
     "text": [
      "2400\n",
      "100\n"
     ]
    }
   ],
   "source": [
    "print(len(df))\n",
    "print(len(df['nodeID'].unique()))"
   ]
  },
  {
   "cell_type": "markdown",
   "id": "a30e2938-d2fe-4cfd-aa79-ed66ced51958",
   "metadata": {},
   "source": [
    "Each csv has 2400 rows and 100 unique nodes"
   ]
  }
 ],
 "metadata": {
  "kernelspec": {
   "display_name": "Python 3 (ipykernel)",
   "language": "python",
   "name": "python3"
  },
  "language_info": {
   "codemirror_mode": {
    "name": "ipython",
    "version": 3
   },
   "file_extension": ".py",
   "mimetype": "text/x-python",
   "name": "python",
   "nbconvert_exporter": "python",
   "pygments_lexer": "ipython3",
   "version": "3.10.14"
  }
 },
 "nbformat": 4,
 "nbformat_minor": 5
}
